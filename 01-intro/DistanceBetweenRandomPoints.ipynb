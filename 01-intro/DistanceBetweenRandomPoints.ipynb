{
  "nbformat": 4,
  "nbformat_minor": 0,
  "metadata": {
    "colab": {
      "provenance": [],
      "authorship_tag": "ABX9TyMaiIALh4n82SwL/OMpsFLh",
      "include_colab_link": true
    },
    "kernelspec": {
      "name": "python3",
      "display_name": "Python 3"
    },
    "language_info": {
      "name": "python"
    }
  },
  "cells": [
    {
      "cell_type": "markdown",
      "metadata": {
        "id": "view-in-github",
        "colab_type": "text"
      },
      "source": [
        "<a href=\"https://colab.research.google.com/github/HSE-LAMBDA/MLDM-2022/blob/main/01-intro/DistanceBetweenRandomPoints.ipynb\" target=\"_parent\"><img src=\"https://colab.research.google.com/assets/colab-badge.svg\" alt=\"Open In Colab\"/></a>"
      ]
    },
    {
      "cell_type": "code",
      "execution_count": null,
      "metadata": {
        "id": "B40_-TmMaFoP"
      },
      "outputs": [],
      "source": [
        "import numpy as np\n",
        "import matplotlib.pyplot as plt\n",
        "import matplotlib as mpl\n",
        "\n",
        "from typing import Tuple\n",
        "from tqdm import tqdm"
      ]
    },
    {
      "cell_type": "markdown",
      "source": [
        "Let's check how average distance between two points uniformly distributied in a unit N-dimensional cube depends on the dimensionality."
      ],
      "metadata": {
        "id": "va2AT3dVak17"
      }
    },
    {
      "cell_type": "code",
      "source": [
        "def run_experiment(\n",
        "  sample_size: int,\n",
        "  dimensionality: int,\n",
        ") -> Tuple[float, float]:\n",
        "  \"\"\"\n",
        "  Runs an experiment and returns the average distance and its standard error.\n",
        "  \"\"\"\n",
        "  points_A, points_B = np.random.uniform(size=(2, sample_size, dimensionality))\n",
        "  distances = ((points_A - points_B)**2).sum(axis=-1)**0.5\n",
        "  return distances.mean(), distances.std(ddof=1) / sample_size**0.5"
      ],
      "metadata": {
        "id": "b5Br70ngakKU"
      },
      "execution_count": null,
      "outputs": []
    },
    {
      "cell_type": "code",
      "source": [
        "dimensionalities = 2**np.arange(11)\n",
        "\n",
        "avg_dists, avg_dist_errs = zip(\n",
        "    *(run_experiment(100, d) for d in tqdm(dimensionalities))\n",
        ")"
      ],
      "metadata": {
        "colab": {
          "base_uri": "https://localhost:8080/"
        },
        "id": "wc6xSVVfeM8-",
        "outputId": "94a9d0be-03c7-409d-dbaf-8b2088fbd778"
      },
      "execution_count": null,
      "outputs": [
        {
          "output_type": "stream",
          "name": "stderr",
          "text": [
            "100%|██████████| 11/11 [00:00<00:00, 1214.84it/s]\n"
          ]
        }
      ]
    },
    {
      "cell_type": "code",
      "source": [
        "plt.figure(dpi=150)\n",
        "\n",
        "plt.errorbar(dimensionalities, avg_dists, yerr=avg_dist_errs, fmt=\".\")\n",
        "\n",
        "plt.xscale(\"log\");\n",
        "plt.gca().xaxis.set_major_formatter(mpl.ticker.ScalarFormatter())\n",
        "plt.ylabel(\"avg. distance\")\n",
        "plt.xlabel(\"dimensionality\");"
      ],
      "metadata": {
        "colab": {
          "base_uri": "https://localhost:8080/",
          "height": 562
        },
        "id": "m2PrPvWAvFGS",
        "outputId": "5699a49d-ae28-4105-acc4-b3a17d102b34"
      },
      "execution_count": null,
      "outputs": [
        {
          "output_type": "display_data",
          "data": {
            "text/plain": [
              "<Figure size 900x600 with 1 Axes>"
            ],
            "image/png": "[encoded data removed]"
          },
          "metadata": {
            "needs_background": "light"
          }
        }
      ]
    },
    {
      "cell_type": "code",
      "source": [],
      "metadata": {
        "id": "aT--dHXpvOVO"
      },
      "execution_count": null,
      "outputs": []
    }
  ]
}